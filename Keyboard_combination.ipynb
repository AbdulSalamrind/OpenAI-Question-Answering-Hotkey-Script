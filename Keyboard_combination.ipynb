{
 "cells": [
  {
   "cell_type": "code",
   "execution_count": 4,
   "id": "1927ec09",
   "metadata": {},
   "outputs": [],
   "source": [
    "import keyboard\n",
    "import pyperclip\n",
    "import openai"
   ]
  },
  {
   "cell_type": "code",
   "execution_count": null,
   "id": "8aeaa066",
   "metadata": {},
   "outputs": [],
   "source": [
    "\n",
    "\n",
    "\n",
    "# Set your OpenAI API key\n",
    "#openai.api_key = \"YOUR_API_KEY\"\n",
    "openai.api_key = \"key open ai\"\n",
    "\n",
    "# Define the key combination to trigger the question generation\n",
    "KEY_COMBINATION = [\"ctrl\", \"alt\", \"p\"]\n",
    "\n",
    "# Define the OpenAI model and endpoint\n",
    "MODEL = \"gpt-3.5-turbo\"\n",
    "ENDPOINT = \"https://api.openai.com/v1/chat/completions\"\n",
    "\n",
    "# Function to send a question to the OpenAI API and get the answer\n",
    "def get_answer(question):\n",
    "    response = openai.Completion.create(\n",
    "        engine=MODEL,\n",
    "        prompt=question,\n",
    "        max_tokens=50,\n",
    "        n=1,\n",
    "        stop=None,\n",
    "        temperature=0.7\n",
    "    )\n",
    "    return response.choices[0].text.strip()\n",
    "\n",
    "# Function to listen for the key combination and process the question\n",
    "def listen_for_key_combination():\n",
    "    while True:\n",
    "        if keyboard.is_pressed(KEY_COMBINATION[0]) and keyboard.is_pressed(KEY_COMBINATION[1]) and keyboard.is_pressed(KEY_COMBINATION[2]):\n",
    "            question = pyperclip.paste()\n",
    "            answer = get_answer(question)\n",
    "            pyperclip.copy(answer)\n",
    "            print(\"Question:\", question)\n",
    "            print(\"Answer:\", answer)\n",
    "\n",
    "# Start listening for the key combination\n",
    "listen_for_key_combination()\n"
   ]
  },
  {
   "cell_type": "code",
   "execution_count": null,
   "id": "d43e6cc6",
   "metadata": {},
   "outputs": [],
   "source": []
  }
 ],
 "metadata": {
  "kernelspec": {
   "display_name": "Python 3 (ipykernel)",
   "language": "python",
   "name": "python3"
  },
  "language_info": {
   "codemirror_mode": {
    "name": "ipython",
    "version": 3
   },
   "file_extension": ".py",
   "mimetype": "text/x-python",
   "name": "python",
   "nbconvert_exporter": "python",
   "pygments_lexer": "ipython3",
   "version": "3.9.17"
  }
 },
 "nbformat": 4,
 "nbformat_minor": 5
}
